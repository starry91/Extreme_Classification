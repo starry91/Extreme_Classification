{
  "nbformat": 4,
  "nbformat_minor": 0,
  "metadata": {
    "kernelspec": {
      "name": "python3",
      "display_name": "Python 3"
    },
    "language_info": {
      "codemirror_mode": {
        "name": "ipython",
        "version": 3
      },
      "file_extension": ".py",
      "mimetype": "text/x-python",
      "name": "python",
      "nbconvert_exporter": "python",
      "pygments_lexer": "ipython3",
      "version": "3.7.6"
    },
    "latex_envs": {
      "LaTeX_envs_menu_present": true,
      "autoclose": false,
      "autocomplete": true,
      "bibliofile": "biblio.bib",
      "cite_by": "apalike",
      "current_citInitial": 1,
      "eqLabelWithNumbers": true,
      "eqNumInitial": 1,
      "hotkeys": {
        "equation": "Ctrl-E",
        "itemize": "Ctrl-I"
      },
      "labels_anchors": false,
      "latex_user_defs": false,
      "report_style_numbering": false,
      "user_envs_cfg": false
    },
    "colab": {
      "name": "XML-AE.ipynb",
      "provenance": [],
      "collapsed_sections": [],
      "toc_visible": true,
      "machine_shape": "hm"
    },
    "accelerator": "GPU"
  },
  "cells": [
    {
      "cell_type": "markdown",
      "metadata": {
        "id": "RitqWxRiKqLP",
        "colab_type": "text"
      },
      "source": [
        "# Extreme Classification using Ranking based AutoEncoder approach using DCCA loss\n",
        "Link to paper: https://arxiv.org/pdf/1904.05937.pdf\n",
        "\n",
        "Link to DCCA: https://ttic.uchicago.edu/~klivescu/papers/andrew_icml2013.pdf\n"
      ]
    },
    {
      "cell_type": "code",
      "metadata": {
        "id": "iaqvccu_joNQ",
        "colab_type": "code",
        "outputId": "6ca31895-ed61-48ec-8494-b49e09139526",
        "colab": {
          "base_uri": "https://localhost:8080/",
          "height": 225
        }
      },
      "source": [
        "!pip install torchviz"
      ],
      "execution_count": 1,
      "outputs": [
        {
          "output_type": "stream",
          "text": [
            "Collecting torchviz\n",
            "\u001b[?25l  Downloading https://files.pythonhosted.org/packages/8f/8e/a9630c7786b846d08b47714dd363a051f5e37b4ea0e534460d8cdfc1644b/torchviz-0.0.1.tar.gz (41kB)\n",
            "\r\u001b[K     |████████                        | 10kB 18.9MB/s eta 0:00:01\r\u001b[K     |████████████████                | 20kB 2.9MB/s eta 0:00:01\r\u001b[K     |███████████████████████▉        | 30kB 4.2MB/s eta 0:00:01\r\u001b[K     |███████████████████████████████▉| 40kB 5.5MB/s eta 0:00:01\r\u001b[K     |████████████████████████████████| 51kB 3.8MB/s \n",
            "\u001b[?25hRequirement already satisfied: torch in /usr/local/lib/python3.6/dist-packages (from torchviz) (1.4.0)\n",
            "Requirement already satisfied: graphviz in /usr/local/lib/python3.6/dist-packages (from torchviz) (0.10.1)\n",
            "Building wheels for collected packages: torchviz\n",
            "  Building wheel for torchviz (setup.py) ... \u001b[?25l\u001b[?25hdone\n",
            "  Created wheel for torchviz: filename=torchviz-0.0.1-cp36-none-any.whl size=3523 sha256=4c357d3407d143cc1e96c22a1f52975570b61ecd0adaae1ac112e3e9ff25b07d\n",
            "  Stored in directory: /root/.cache/pip/wheels/2a/c2/c5/b8b4d0f7992c735f6db5bfa3c5f354cf36502037ca2b585667\n",
            "Successfully built torchviz\n",
            "Installing collected packages: torchviz\n",
            "Successfully installed torchviz-0.0.1\n"
          ],
          "name": "stdout"
        }
      ]
    },
    {
      "cell_type": "code",
      "metadata": {
        "id": "nP4qdctBjv4c",
        "colab_type": "code",
        "outputId": "47ce2dff-2d5b-42db-dbf0-d67030b2878c",
        "colab": {
          "base_uri": "https://localhost:8080/",
          "height": 124
        }
      },
      "source": [
        "from google.colab import drive\n",
        "drive.mount('/content/drive', force_remount=True)"
      ],
      "execution_count": 2,
      "outputs": [
        {
          "output_type": "stream",
          "text": [
            "Go to this URL in a browser: https://accounts.google.com/o/oauth2/auth?client_id=947318989803-6bn6qk8qdgf4n4g3pfee6491hc0brc4i.apps.googleusercontent.com&redirect_uri=urn%3aietf%3awg%3aoauth%3a2.0%3aoob&response_type=code&scope=email%20https%3a%2f%2fwww.googleapis.com%2fauth%2fdocs.test%20https%3a%2f%2fwww.googleapis.com%2fauth%2fdrive%20https%3a%2f%2fwww.googleapis.com%2fauth%2fdrive.photos.readonly%20https%3a%2f%2fwww.googleapis.com%2fauth%2fpeopleapi.readonly\n",
            "\n",
            "Enter your authorization code:\n",
            "··········\n",
            "Mounted at /content/drive\n"
          ],
          "name": "stdout"
        }
      ]
    },
    {
      "cell_type": "code",
      "metadata": {
        "ExecuteTime": {
          "end_time": "2020-03-05T06:57:33.748378Z",
          "start_time": "2020-03-05T06:57:33.734155Z"
        },
        "id": "BP2Gtjp_jCht",
        "colab_type": "code",
        "colab": {}
      },
      "source": [
        "import torch\n",
        "from torch import nn\n",
        "from torchsummary import summary\n",
        "from sklearn.feature_extraction.text import CountVectorizer, TfidfVectorizer\n",
        "import pandas as pd\n",
        "from torch import optim\n",
        "import numpy as np\n",
        "from torchviz import make_dot\n",
        "from scipy.io.arff import loadarff\n",
        "import math\n",
        "import os\n",
        "import sys\n",
        "import matplotlib.pyplot as plt\n",
        "torch.manual_seed(1)\n",
        "np.random.seed(1)\n",
        "# curdir = \"/content/\"\n",
        "# os.chdir('/content/drive/My Drive/xclib/')\n",
        "# sys.path.append('/content/drive/My Drive/xclib')\n",
        "# !sudo python /content/drive/My\\ Drive/xclib/setup.py install --user\n",
        "# os.chdir(curdir)\n",
        "# # print(curdir)\n",
        "# !pwd\n",
        "# import xclib.evaluation.xc_metrics as metric\n"
      ],
      "execution_count": 0,
      "outputs": []
    },
    {
      "cell_type": "code",
      "metadata": {
        "id": "3ejyznjvlPEv",
        "colab_type": "code",
        "outputId": "3aa2e954-8aa2-4356-acc4-0f5c560e6e49",
        "colab": {
          "base_uri": "https://localhost:8080/",
          "height": 208
        }
      },
      "source": [
        "## Mediamill dataset\n",
        "!unrar x /content/drive/'My Drive'/mediamill.rar"
      ],
      "execution_count": 4,
      "outputs": [
        {
          "output_type": "stream",
          "text": [
            "\n",
            "UNRAR 5.50 freeware      Copyright (c) 1993-2017 Alexander Roshal\n",
            "\n",
            "\n",
            "Extracting from /content/drive/My Drive/mediamill.rar\n",
            "\n",
            "Extracting  mediamill.arff                                               \b\b\b\b  0%\b\b\b\b  1%\b\b\b\b  2%\b\b\b\b  3%\b\b\b\b  4%\b\b\b\b  5%\b\b\b\b  6%\b\b\b\b  7%\b\b\b\b  8%\b\b\b\b  9%\b\b\b\b 10%\b\b\b\b 11%\b\b\b\b 12%\b\b\b\b 13%\b\b\b\b 14%\b\b\b\b 15%\b\b\b\b 16%\b\b\b\b 17%\b\b\b\b 18%\b\b\b\b 19%\b\b\b\b 20%\b\b\b\b 21%\b\b\b\b 22%\b\b\b\b 23%\b\b\b\b 24%\b\b\b\b 25%\b\b\b\b 26%\b\b\b\b 27%\b\b\b\b 28%\b\b\b\b 29%\b\b\b\b 30%\b\b\b\b 31%\b\b\b\b 32%\b\b\b\b 33%\b\b\b\b 34%\b\b\b\b 35%\b\b\b\b 36%\b\b\b\b 37%\b\b\b\b 38%\b\b\b\b 39%\b\b\b\b 40%\b\b\b\b 41%\b\b\b\b 42%\b\b\b\b 43%\b\b\b\b 44%\b\b\b\b 45%\b\b\b\b 46%\b\b\b\b 47%\b\b\b\b 48%\b\b\b\b 49%\b\b\b\b\b  OK \n",
            "Extracting  mediamill.xml                                                \b\b\b\b 49%\b\b\b\b\b  OK \n",
            "Extracting  mediamill-train.arff                                         \b\b\b\b 50%\b\b\b\b 51%\b\b\b\b 52%\b\b\b\b 53%\b\b\b\b 54%\b\b\b\b 55%\b\b\b\b 56%\b\b\b\b 57%\b\b\b\b 58%\b\b\b\b 59%\b\b\b\b 60%\b\b\b\b 61%\b\b\b\b 62%\b\b\b\b 63%\b\b\b\b 64%\b\b\b\b 65%\b\b\b\b 66%\b\b\b\b 67%\b\b\b\b 68%\b\b\b\b 69%\b\b\b\b 70%\b\b\b\b 71%\b\b\b\b 72%\b\b\b\b 73%\b\b\b\b 74%\b\b\b\b 75%\b\b\b\b 76%\b\b\b\b 77%\b\b\b\b 78%\b\b\b\b 79%\b\b\b\b 80%\b\b\b\b 81%\b\b\b\b 82%\b\b\b\b 83%\b\b\b\b 84%\b\b\b\b 85%\b\b\b\b\b  OK \n",
            "Extracting  mediamill-test.arff                                          \b\b\b\b 85%\b\b\b\b 86%\b\b\b\b 87%\b\b\b\b 88%\b\b\b\b 89%\b\b\b\b 90%\b\b\b\b 91%\b\b\b\b 92%\b\b\b\b 93%\b\b\b\b 94%\b\b\b\b 95%\b\b\b\b 96%\b\b\b\b 97%\b\b\b\b 98%\b\b\b\b 99%\b\b\b\b\b  OK \n",
            "All OK\n"
          ],
          "name": "stdout"
        }
      ]
    },
    {
      "cell_type": "code",
      "metadata": {
        "id": "txr7JntXf5o4",
        "colab_type": "code",
        "outputId": "06b94284-10a4-4277-ca7c-f86aa4714174",
        "colab": {
          "base_uri": "https://localhost:8080/",
          "height": 121
        }
      },
      "source": [
        "!unzip \"/content/drive/My Drive/EURLex-4.3K.zip\""
      ],
      "execution_count": 5,
      "outputs": [
        {
          "output_type": "stream",
          "text": [
            "Archive:  /content/drive/My Drive/EURLex-4.3K.zip\n",
            "   creating: EURLex-4.3K/\n",
            "  inflating: EURLex-4.3K/README      \n",
            "  inflating: EURLex-4.3K/validation.txt  \n",
            "  inflating: EURLex-4.3K/test.txt    \n",
            "  inflating: EURLex-4.3K/train.txt   \n"
          ],
          "name": "stdout"
        }
      ]
    },
    {
      "cell_type": "code",
      "metadata": {
        "id": "PmhQzDztgXVJ",
        "colab_type": "code",
        "outputId": "e5c8090a-3619-442f-91c9-95be5274539a",
        "colab": {
          "base_uri": "https://localhost:8080/",
          "height": 121
        }
      },
      "source": [
        "!cat \"/content/EURLex-4.3K/README\""
      ],
      "execution_count": 6,
      "outputs": [
        {
          "output_type": "stream",
          "text": [
            "Sources: \n",
            "[1] http://nlp.cs.aueb.gr/software_and_datasets/EURLEX57K/index.html\n",
            "[2] https://www.aclweb.org/anthology/W19-2209/\n",
            "[3] https://www.aclweb.org/anthology/P19-1636/\n",
            "\n",
            "Changes: Renamed to EURLex-4.3K to follow the naming convention of extreme classification repository.\n"
          ],
          "name": "stdout"
        }
      ]
    },
    {
      "cell_type": "code",
      "metadata": {
        "id": "yA3fw1ztgY-B",
        "colab_type": "code",
        "outputId": "80f8ee65-4851-49c7-9dbc-f8c7f05986a2",
        "colab": {
          "base_uri": "https://localhost:8080/",
          "height": 52
        }
      },
      "source": [
        "!ls \"/content\""
      ],
      "execution_count": 7,
      "outputs": [
        {
          "output_type": "stream",
          "text": [
            "drive\t     mediamill.arff\t  mediamill-train.arff\tsample_data\n",
            "EURLex-4.3K  mediamill-test.arff  mediamill.xml\n"
          ],
          "name": "stdout"
        }
      ]
    },
    {
      "cell_type": "code",
      "metadata": {
        "id": "1X06-8TBAMii",
        "colab_type": "code",
        "colab": {}
      },
      "source": [
        "def get_data(path2):\n",
        "  path = \"/content\"\n",
        "  raw_data = loadarff(path+path2)\n",
        "  df_data = pd.DataFrame(raw_data[0])\n",
        "  X_cols = df_data.columns[:120]\n",
        "  Y_cols = df_data.columns[120:]\n",
        "  X_data = df_data[X_cols]\n",
        "  Y_data = df_data[Y_cols]\n",
        "  for col in Y_data.columns:\n",
        "    Y_data[col] = Y_data[col].apply(lambda x: x.decode(\"utf-8\"))\n",
        "    Y_data[col] = Y_data[col].astype(int)\n",
        "  return X_data.values, Y_data.values"
      ],
      "execution_count": 0,
      "outputs": []
    },
    {
      "cell_type": "code",
      "metadata": {
        "id": "d9IU_XxnAmj9",
        "colab_type": "code",
        "colab": {}
      },
      "source": [
        "train_path = \"/mediamill-train.arff\"\n",
        "test_path = \"/mediamill-test.arff\""
      ],
      "execution_count": 0,
      "outputs": []
    },
    {
      "cell_type": "code",
      "metadata": {
        "id": "WClR2xZwyCB8",
        "colab_type": "code",
        "outputId": "6230959c-b9df-47f2-8cdc-92fc30f7ec76",
        "colab": {
          "base_uri": "https://localhost:8080/",
          "height": 225
        }
      },
      "source": [
        "X_train, Y_train = get_data(train_path)\n",
        "X_test, Y_test = get_data(test_path)"
      ],
      "execution_count": 10,
      "outputs": [
        {
          "output_type": "stream",
          "text": [
            "/usr/local/lib/python3.6/dist-packages/ipykernel_launcher.py:10: SettingWithCopyWarning: \n",
            "A value is trying to be set on a copy of a slice from a DataFrame.\n",
            "Try using .loc[row_indexer,col_indexer] = value instead\n",
            "\n",
            "See the caveats in the documentation: https://pandas.pydata.org/pandas-docs/stable/user_guide/indexing.html#returning-a-view-versus-a-copy\n",
            "  # Remove the CWD from sys.path while we load stuff.\n",
            "/usr/local/lib/python3.6/dist-packages/ipykernel_launcher.py:11: SettingWithCopyWarning: \n",
            "A value is trying to be set on a copy of a slice from a DataFrame.\n",
            "Try using .loc[row_indexer,col_indexer] = value instead\n",
            "\n",
            "See the caveats in the documentation: https://pandas.pydata.org/pandas-docs/stable/user_guide/indexing.html#returning-a-view-versus-a-copy\n",
            "  # This is added back by InteractiveShellApp.init_path()\n"
          ],
          "name": "stderr"
        }
      ]
    },
    {
      "cell_type": "code",
      "metadata": {
        "ExecuteTime": {
          "end_time": "2020-03-05T06:41:08.645519Z",
          "start_time": "2020-03-05T06:41:08.563838Z"
        },
        "id": "C-09RkXBjCjF",
        "colab_type": "code",
        "colab": {}
      },
      "source": [
        "class XML(nn.Module):\n",
        "    def calculateBowAndTfIdf(self, input):\n",
        "        return self.bow.transform(input), self.tfidf.transform(input)\n",
        "    \n",
        "    def train(self, input):\n",
        "        self.BoW = CountVectorizer(input)\n",
        "        self.TfIdf = TfidfVectorizer(input)\n",
        "    \n",
        "    def __init__(self, input_size, embedding_size, attention_layer_size,\n",
        "                 encoder_layer_size, hidden_layer_size, output_size, margin, lamda = 1, r1 = 1e-6, use_all_singular_values=False):\n",
        "        self.print_num = 0\n",
        "        self.r1 = r1      # 1e-6, 5e-7, 1e-7\n",
        "        self.m = margin\n",
        "        self.lamda = lamda\n",
        "        ########## Feature Embedding\n",
        "        ### Embedding Layer\n",
        "        nn.Module.__init__(self)\n",
        "        self.embedding = nn.Embedding(input_size, embedding_size)\n",
        "        ### Attention Module\n",
        "        self.attentionfc1 = nn.Linear( embedding_size,  attention_layer_size)\n",
        "        self.attentionfc2 = nn.Linear(attention_layer_size, embedding_size)\n",
        "        ### fully connected layer\n",
        "        self.featurefc1 = nn.Linear(embedding_size, hidden_layer_size)\n",
        "                                      \n",
        "        ########## encoder\n",
        "        self.encoderfc1 = nn.Linear(output_size, encoder_layer_size)\n",
        "        self.encoderfc2 = nn.Linear(encoder_layer_size, hidden_layer_size)\n",
        "        \n",
        "        ########## decoder\n",
        "        self.decoderfc1 = nn.Linear(hidden_layer_size, encoder_layer_size)\n",
        "        self.decoderfc2 = nn.Linear(encoder_layer_size, output_size)\n",
        "        # self.device = torch.device('cuda' if torch.cuda.is_available() else 'cpu')\n",
        "        self.device = torch.device('cpu')\n",
        "        self.use_all_singular_values = use_all_singular_values\n",
        "        self.outdim_size = hidden_layer_size\n",
        "        \n",
        "    def reconstructingLoss(self, y_predicted, y_actual):\n",
        "        loss = 0\n",
        "        for i in range(y_predicted.shape[0]):\n",
        "          y_hat_n = y_predicted[i][y_actual[i]==0]\n",
        "          y_hat_p = y_predicted[i][y_actual[i]==1]\n",
        "          if(len(y_hat_p) == 0):\n",
        "            continue\n",
        "          y_p_min = torch.min(y_hat_p)\n",
        "          y_n_max = torch.max(y_hat_n)\n",
        "          loss1 = torch.sum(y_hat_n+self.m-y_p_min)\n",
        "          loss1[loss1 < 0] = 0\n",
        "          loss2 = torch.sum(-y_hat_p+self.m+y_n_max)\n",
        "          loss2[loss2 < 0] = 0\n",
        "          loss += (loss1+loss2)\n",
        "        loss /= y_predicted.shape[0]\n",
        "        # print(\"ReconstrLoss\",loss)\n",
        "        return loss\n",
        "\n",
        "    def hiddenLoss(self, H1, H2):\n",
        "        # print(\"H1 shape: \",H1.shape)\n",
        "        # print(\"H1\",H1)\n",
        "        # print(\"H2\",H2)\n",
        "        # print(H1.size())\n",
        "        r1 = self.r1\n",
        "        r2 = 1e-3\n",
        "        eps = 1e-12\n",
        "        # x = Variable(1e-4, requires_grad=False)\n",
        "        # x = torch.tensor(1e-4, requires_grad=False)\n",
        "        # x = x.fill_(1e-4)\n",
        "        # H1 = H1.clone() + x\n",
        "        # H2 = H2.clone() + x\n",
        "        H1, H2 = H1.t(), H2.t()\n",
        "        # assert torch.isnan(H1).sum().item() == 0\n",
        "        # assert torch.isnan(H2).sum().item() == 0\n",
        "\n",
        "        o1 = o2 = H1.size(0)\n",
        "\n",
        "        m = H1.size(1)\n",
        "\n",
        "        H1bar = H1 - H1.mean(dim=1).unsqueeze(dim=1)\n",
        "        # print(\"H1bar\", H1bar.shape)\n",
        "        # print(\"max\", torch.max(H1, dim=1, keepdim=True)[0].shape)\n",
        "        # H1bar /= H1.max(dim=1, keepdim=True)[0]#.unsqueeze(dim=1)\n",
        "        H2bar = H2 - H2.mean(dim=1).unsqueeze(dim=1)\n",
        "        # H2bar /= H2.max(dim=1, keepdim=True)[0]#.unsqueeze(dim=1)\n",
        "        # assert torch.isnan(H1bar).sum().item() == 0\n",
        "        # assert torch.isnan(H2bar).sum().item() == 0\n",
        "\n",
        "        SigmaHat12 = (1.0 / (m - 1)) * torch.matmul(H1bar, H2bar.t())\n",
        "        SigmaHat11 = (1.0 / (m - 1)) * torch.matmul(H1bar,\n",
        "                                                    H1bar.t()) + r1 * torch.eye(o1, device=self.device)\n",
        "        SigmaHat22 = (1.0 / (m - 1)) * torch.matmul(H2bar,\n",
        "                                                    H2bar.t()) + r2 * torch.eye(o2, device=self.device)\n",
        "        assert torch.isnan(SigmaHat11).sum().item() == 0\n",
        "        assert torch.isnan(SigmaHat12).sum().item() == 0\n",
        "        assert torch.isnan(SigmaHat22).sum().item() == 0\n",
        "\n",
        "        # Calculating the root inverse of covariance matrices by using eigen decomposition\n",
        "        # print(H1bar)\n",
        "        # print(\"Sigma11\",SigmaHat11)\n",
        "        # print(\"Sigma12\",SigmaHat12)\n",
        "        [D1, V1] = torch.symeig(SigmaHat11, eigenvectors=True)\n",
        "        [D2, V2] = torch.symeig(SigmaHat22, eigenvectors=True)\n",
        "        # assert torch.isnan(D1).sum().item() == 0\n",
        "        # assert torch.isnan(D2).sum().item() == 0\n",
        "        # assert torch.isnan(V1).sum().item() == 0\n",
        "        # assert torch.isnan(V2).sum().item() == 0\n",
        "\n",
        "        # Added to increase stability\n",
        "        # posInd1 = torch.gt(D1, eps).nonzero()[:, 0]\n",
        "        # D1 = D1[posInd1]\n",
        "        # V1 = V1[:, posInd1]\n",
        "        # posInd2 = torch.gt(D2, eps).nonzero()[:, 0]\n",
        "        # D2 = D2[posInd2]\n",
        "        # V2 = V2[:, posInd2]\n",
        "        # print(posInd1.size())\n",
        "        # print(posInd2.size())\n",
        "\n",
        "        SigmaHat11RootInv = torch.matmul(\n",
        "            torch.matmul(V1, torch.diag(D1 ** -0.5)), V1.t())\n",
        "        SigmaHat22RootInv = torch.matmul(\n",
        "            torch.matmul(V2, torch.diag(D2 ** -0.5)), V2.t())\n",
        "\n",
        "        Tval = torch.matmul(torch.matmul(SigmaHat11RootInv,\n",
        "                                         SigmaHat12), SigmaHat22RootInv)\n",
        "#         print(Tval.size())\n",
        "\n",
        "        if self.use_all_singular_values:\n",
        "            # all singular values are used to calculate the correlation\n",
        "            tmp = torch.trace(torch.matmul(Tval.t(), Tval))\n",
        "            # print(tmp)\n",
        "            corr = torch.sqrt(tmp)\n",
        "            # assert torch.isnan(corr).item() == 0\n",
        "        else:\n",
        "            # just the top self.outdim_size singular values are used\n",
        "            U, V = torch.symeig(torch.matmul(\n",
        "                Tval.t(), Tval), eigenvectors=True)\n",
        "            # print(\"U\",U)\n",
        "            U = torch.abs(U)\n",
        "            # U = U[torch.gt(U, eps).nonzero()[:, 0]]\n",
        "            U = U.topk(self.outdim_size)[0]\n",
        "            # print(\"Utop\",U)\n",
        "            # print(\"Usqrt\",torch.sqrt(U))\n",
        "            # print(\"Usum\",torch.sum(torch.sqrt(U)))\n",
        "            corr = torch.sum(torch.sqrt(U))\n",
        "        # print(\"corr\",-corr)\n",
        "        return 100-corr\n",
        "\n",
        "    def hiddenLoss1(self, x_hidden, y_hidden):\n",
        "        # print(\"xhiden shape: \",x_hidden.shape)\n",
        "        temp = torch.sum((x_hidden-y_hidden)**2)\n",
        "        temp /= x_hidden.shape[0]\n",
        "        # print(\"hiddLoss\",temp)\n",
        "        return temp\n",
        "      \n",
        "    def train(self, X_train, Y_train, lr_=0.001, epochs=10, batch_size=256):\n",
        "        X_data_new = np.array([list(range(X_train.shape[1]))]*X_train.shape[0])\n",
        "        X_TfIdftensor =  torch.from_numpy(X_train)\n",
        "        X_data_tensor =  torch.from_numpy(X_data_new)\n",
        "        Y_data_tensor =  torch.from_numpy(Y_train)\n",
        "        criterion = self.loss\n",
        "        optimizer = optim.Adam(self.parameters(),lr=lr_)\n",
        "        reg_par = 1e-5\n",
        "        # optimizer = torch.optim.RMSprop(\n",
        "        #       self.parameters(), lr=lr_, weight_decay=reg_par)\n",
        "        self.losses = []\n",
        "        # epochs = 10\n",
        "        # batch_size = 256 # or whatever\n",
        "        for i,e in enumerate(range(epochs)):\n",
        "            permutation = torch.randperm(X_data_tensor.size()[0])\n",
        "            self.print_num = 0\n",
        "            for j in range(0,X_data_tensor.size()[0], batch_size):\n",
        "                indices = permutation[j:j+batch_size]\n",
        "                optimizer.zero_grad()\n",
        "                x_hidden, y_hidden, y_predicted = self.forward(X_data_tensor[indices], X_TfIdftensor[indices][:, :, None].type('torch.FloatTensor'), Y_data_tensor[indices].type('torch.FloatTensor'))\n",
        "                loss = criterion(x_hidden, y_hidden, y_predicted, Y_data_tensor[indices].type('torch.FloatTensor'))\n",
        "                # print(\"loss = \", loss)\n",
        "                loss.backward() # Backpropagation\n",
        "                optimizer.step() # Optimizer one step\n",
        "                # print(\"#########################Gradients#########################\")\n",
        "                # for name, parameter in self.named_parameters():\n",
        "                #   print(\"Gradient \"+name, parameter.grad)\n",
        "                #   print(\"Values \"+name, parameter)\n",
        "\n",
        "            print(f\"Epoch - {i+1}, Loss - {round(loss.item(),3)}\")  # Print loss\n",
        "            self.losses.append(round(loss.item(),3))\n",
        "        plt.plot(np.array(self.losses), 'r')\n",
        "\n",
        "    def f_x(self, bow, tfidf):\n",
        "        word_embedding = self.embedding(bow)\n",
        "        #print(\"word_embedding_shape: \", word_embedding.shape)\n",
        "        #print(\"tfidf:\", tfidf.shape)\n",
        "        word_embedding = tfidf * word_embedding\n",
        "        #print(\"tfidf * word_embedding: \", word_embedding.shape)\n",
        "        attention_embedding = word_embedding\n",
        "        attention_embedding = torch.relu(self.attentionfc1(attention_embedding))\n",
        "        #print(\"Attention after fc1: \", attention_embedding.shape)\n",
        "        attention_embedding = torch.sigmoid(self.attentionfc2(attention_embedding))\n",
        "        #print(\"Attention after fc2: \", attention_embedding.shape)\n",
        "        word_embedding = attention_embedding * word_embedding\n",
        "        #print(\"Attention before pooling: \", word_embedding.shape)\n",
        "        ###word_embedding - max pooling\n",
        "        #print(\"word_embedding_shape: \", word_embedding.shape, \" \", word_embedding.type())\n",
        "        word_embedding = word_embedding.mean(1)\n",
        "        #print(\"Attention after pooling: \", word_embedding.shape)\n",
        "        x_hidden = torch.tanh(self.featurefc1(word_embedding))\n",
        "        return x_hidden\n",
        "    \n",
        "    def e_y(self, labels):\n",
        "        y_hidden = torch.relu(self.encoderfc1(labels))\n",
        "        y_hidden = torch.tanh(self.encoderfc2(y_hidden))\n",
        "        return y_hidden\n",
        "    \n",
        "    def d_y(self, y_hidden):\n",
        "        y_predicted = torch.tanh(self.decoderfc1(y_hidden))\n",
        "        y_predicted = torch.relu(self.decoderfc2(y_predicted))\n",
        "        return y_predicted\n",
        "\n",
        "    def forward(self, bow, tfidf, labels):\n",
        "        x_hidden = self.f_x(bow, tfidf)\n",
        "        y_hidden = self.e_y(labels)\n",
        "        y_predicted = self.d_y(y_hidden)\n",
        "        return x_hidden, y_hidden, y_predicted\n",
        "\n",
        "    def predict(self, X_test):\n",
        "        X_data_new = np.array([list(range(X_test.shape[1]))]*X_test.shape[0])\n",
        "        tfidf =  torch.from_numpy(X_test)\n",
        "        tfidf = tfidf[:, :, None].type('torch.FloatTensor')\n",
        "        bow =  torch.from_numpy(X_data_new)\n",
        "        x_hidden = self.f_x(bow, tfidf)\n",
        "        y_predicted = self.d_y(x_hidden)\n",
        "        return y_predicted.cpu().detach().numpy()\n",
        "\n",
        "    def loss(self, x_hidden, y_hidden, y_predicted, y_actual):\n",
        "        loss_hidden = self.hiddenLoss(x_hidden, y_hidden)\n",
        "        loss_ae = self.reconstructingLoss(y_predicted, y_actual)\n",
        "        if self.print_num == 0:\n",
        "            print(\"Hidden loss = {0}, Reconstruction Loss = {1}\".format(loss_hidden, loss_ae))\n",
        "        self.print_num += 1\n",
        "        self.print_num %= 63\n",
        "        return (loss_hidden+self.lamda*loss_ae)\n",
        "    "
      ],
      "execution_count": 0,
      "outputs": []
    },
    {
      "cell_type": "code",
      "metadata": {
        "id": "vPZhhmN_zd9C",
        "colab_type": "code",
        "colab": {}
      },
      "source": [
        "def p_k(y_predicted, y_actual, k):\n",
        "  res = 0\n",
        "  for i in range(len(y_predicted)):\n",
        "    indices = y_predicted[i].argsort()[-k:][::-1]\n",
        "    res += (y_actual[i][indices].sum())/k\n",
        "  return res/len(y_predicted)\n",
        "\n",
        "def dcg_k(y_predicted, y_actual, k):\n",
        "  logger = lambda t: 1/math.log(1+t,2)\n",
        "  logger = np.vectorize(logger)\n",
        "  # l = np.arange(1,1+y_predicted.shape[1])\n",
        "  l = np.arange(1,1+k)\n",
        "  l = logger(l)\n",
        "  res = np.zeros(y_predicted.shape[0])\n",
        "  for i in range(len(y_predicted)):\n",
        "    indices = y_predicted[i].argsort()[-k:][::-1]\n",
        "    temp = l*y_actual[i][indices]\n",
        "    res[i] = temp.sum()\n",
        "    # temp = l*y_actual[i]\n",
        "    # res[i] = temp[indices].sum()\n",
        "  return res\n",
        "\n",
        "def n_k(y_predicted, y_actual, k):\n",
        "  dcg_k_list = dcg_k(y_predicted, y_actual, k)\n",
        "  logger = lambda t: 1/math.log(1+t,2)\n",
        "  logger = np.vectorize(logger)\n",
        "  res = 0\n",
        "  for i in range(len(y_predicted)):\n",
        "    lim = y_actual[i].sum()\n",
        "    if(lim == 0):\n",
        "      continue\n",
        "    l = np.arange(1,1+min(lim,k))\n",
        "    l = logger(l)\n",
        "    deno = l.sum()\n",
        "    res += dcg_k_list[i]/deno\n",
        "  return res/y_predicted.shape[0]"
      ],
      "execution_count": 0,
      "outputs": []
    },
    {
      "cell_type": "code",
      "metadata": {
        "ExecuteTime": {
          "end_time": "2020-03-05T06:41:08.884779Z",
          "start_time": "2020-03-05T06:41:08.868401Z"
        },
        "id": "v6EAQ-DKjCjM",
        "colab_type": "code",
        "colab": {}
      },
      "source": [
        "document = \"Hey there delilah whats it like in new york city I am thousand miles away but tonight you look so pretty yes you do hey there delilah don't you worry about the distance I am right there if you get lonenly give this song another listen\""
      ],
      "execution_count": 0,
      "outputs": []
    },
    {
      "cell_type": "code",
      "metadata": {
        "ExecuteTime": {
          "end_time": "2020-03-05T06:41:09.417574Z",
          "start_time": "2020-03-05T06:41:09.387412Z"
        },
        "scrolled": true,
        "id": "KVoopoBAjCjU",
        "colab_type": "code",
        "colab": {}
      },
      "source": [
        "count_vec = CountVectorizer()\n",
        "count_occurs = count_vec.fit_transform([document])\n",
        "count_occur_df = pd.DataFrame(\n",
        "    (count, word) for word, count in\n",
        "     zip(count_occurs.toarray().tolist()[0], \n",
        "    count_vec.get_feature_names()))\n",
        "count_occur_df.columns = ['Word', 'Count']\n",
        "count_occur_df.sort_values('Count', ascending=False, inplace=True)\n",
        "print(count_occur_df.shape)\n",
        "count_occur_df.head()"
      ],
      "execution_count": 0,
      "outputs": []
    },
    {
      "cell_type": "code",
      "metadata": {
        "ExecuteTime": {
          "end_time": "2020-03-05T06:41:10.074598Z",
          "start_time": "2020-03-05T06:41:10.025149Z"
        },
        "id": "uvR6vVOkjCjh",
        "colab_type": "code",
        "colab": {}
      },
      "source": [
        "tfidf_vec = TfidfVectorizer()\n",
        "tfidf_count_occurs = tfidf_vec.fit_transform([document])\n",
        "tfidf_count_occur_df = pd.DataFrame(\n",
        "    (count, word) for word, count in zip(\n",
        "    tfidf_count_occurs.toarray().tolist()[0],   \n",
        "    tfidf_vec.get_feature_names()))\n",
        "tfidf_count_occur_df.columns = ['Word', 'Count']\n",
        "tfidf_count_occur_df.sort_values('Count', ascending=False, inplace=True)\n",
        "tfidf_count_occur_df.head()"
      ],
      "execution_count": 0,
      "outputs": []
    },
    {
      "cell_type": "code",
      "metadata": {
        "id": "sNSKYQatjCkM",
        "colab_type": "code",
        "colab": {}
      },
      "source": [
        "make_dot(y_hidden)"
      ],
      "execution_count": 0,
      "outputs": []
    },
    {
      "cell_type": "code",
      "metadata": {
        "id": "Cv_9qqmujCkT",
        "colab_type": "code",
        "colab": {}
      },
      "source": [
        "make_dot(y_predicted)"
      ],
      "execution_count": 0,
      "outputs": []
    },
    {
      "cell_type": "code",
      "metadata": {
        "id": "aVafYeQVjCkZ",
        "colab_type": "code",
        "cellView": "both",
        "colab": {}
      },
      "source": [
        "#@titlesigmoid\n",
        "make_dot(x_hidden)"
      ],
      "execution_count": 0,
      "outputs": []
    },
    {
      "cell_type": "code",
      "metadata": {
        "id": "wXhceqCSrMfZ",
        "colab_type": "code",
        "colab": {
          "base_uri": "https://localhost:8080/",
          "height": 1000
        },
        "outputId": "91bbbf44-3347-42e8-f70f-9797c16a553d"
      },
      "source": [
        "model = XML(input_size=X_train.shape[1], embedding_size=100, attention_layer_size=50, \n",
        "            encoder_layer_size=120, hidden_layer_size=100,output_size=Y_train.shape[1],\n",
        "            margin=0.8, lamda = 10, r1 = 1e-6, use_all_singular_values = False)\n",
        "model.train(X_train, Y_train, lr_ = 0.01, epochs=50, batch_size=1024) "
      ],
      "execution_count": 14,
      "outputs": [
        {
          "output_type": "stream",
          "text": [
            "Hidden loss = 95.08831787109375, Reconstruction Loss = 79.8844985961914\n",
            "Epoch - 1, Loss - 680.157\n",
            "Hidden loss = 81.87593841552734, Reconstruction Loss = 62.50900650024414\n",
            "Epoch - 2, Loss - 619.951\n",
            "Hidden loss = 75.36859130859375, Reconstruction Loss = 54.8067512512207\n",
            "Epoch - 3, Loss - 560.185\n",
            "Hidden loss = 72.62772369384766, Reconstruction Loss = 49.09076690673828\n",
            "Epoch - 4, Loss - 591.221\n",
            "Hidden loss = 71.33250427246094, Reconstruction Loss = 51.10139846801758\n",
            "Epoch - 5, Loss - 566.95\n",
            "Hidden loss = 70.4354476928711, Reconstruction Loss = 52.07100296020508\n",
            "Epoch - 6, Loss - 563.603\n",
            "Hidden loss = 69.74983215332031, Reconstruction Loss = 54.54484176635742\n",
            "Epoch - 7, Loss - 566.195\n",
            "Hidden loss = 69.71099090576172, Reconstruction Loss = 50.370643615722656\n",
            "Epoch - 8, Loss - 556.879\n",
            "Hidden loss = 68.41996002197266, Reconstruction Loss = 53.823951721191406\n",
            "Epoch - 9, Loss - 592.871\n",
            "Hidden loss = 68.2747573852539, Reconstruction Loss = 51.962955474853516\n",
            "Epoch - 10, Loss - 576.989\n",
            "Hidden loss = 67.67939758300781, Reconstruction Loss = 51.6184196472168\n",
            "Epoch - 11, Loss - 596.321\n",
            "Hidden loss = 67.24186706542969, Reconstruction Loss = 53.81861877441406\n",
            "Epoch - 12, Loss - 590.72\n",
            "Hidden loss = 66.34249877929688, Reconstruction Loss = 50.75686264038086\n",
            "Epoch - 13, Loss - 556.421\n",
            "Hidden loss = 65.13668060302734, Reconstruction Loss = 53.967437744140625\n",
            "Epoch - 14, Loss - 573.753\n",
            "Hidden loss = 65.55290985107422, Reconstruction Loss = 52.92644119262695\n",
            "Epoch - 15, Loss - 591.699\n",
            "Hidden loss = 62.30717468261719, Reconstruction Loss = 51.841426849365234\n",
            "Epoch - 16, Loss - 578.933\n",
            "Hidden loss = 64.3310775756836, Reconstruction Loss = 52.32854461669922\n",
            "Epoch - 17, Loss - 591.346\n",
            "Hidden loss = 61.92736053466797, Reconstruction Loss = 51.43983459472656\n",
            "Epoch - 18, Loss - 556.755\n",
            "Hidden loss = 59.70648956298828, Reconstruction Loss = 52.00603103637695\n",
            "Epoch - 19, Loss - 596.591\n",
            "Hidden loss = 59.33680725097656, Reconstruction Loss = 53.666683197021484\n",
            "Epoch - 20, Loss - 549.146\n",
            "Hidden loss = 59.18981170654297, Reconstruction Loss = 49.82947540283203\n",
            "Epoch - 21, Loss - 563.981\n",
            "Hidden loss = 58.062583923339844, Reconstruction Loss = 50.67383575439453\n",
            "Epoch - 22, Loss - 557.239\n",
            "Hidden loss = 59.17085266113281, Reconstruction Loss = 50.761138916015625\n",
            "Epoch - 23, Loss - 549.08\n",
            "Hidden loss = 57.777034759521484, Reconstruction Loss = 52.077056884765625\n",
            "Epoch - 24, Loss - 558.542\n",
            "Hidden loss = 57.41259765625, Reconstruction Loss = 50.75297164916992\n",
            "Epoch - 25, Loss - 549.96\n",
            "Hidden loss = 57.61845779418945, Reconstruction Loss = 49.36149215698242\n",
            "Epoch - 26, Loss - 570.494\n",
            "Hidden loss = 55.25291061401367, Reconstruction Loss = 51.9340705871582\n",
            "Epoch - 27, Loss - 575.788\n",
            "Hidden loss = 55.361995697021484, Reconstruction Loss = 51.06052017211914\n",
            "Epoch - 28, Loss - 559.954\n",
            "Hidden loss = 55.194156646728516, Reconstruction Loss = 50.87617874145508\n",
            "Epoch - 29, Loss - 578.078\n",
            "Hidden loss = 52.87690734863281, Reconstruction Loss = 51.700191497802734\n",
            "Epoch - 30, Loss - 564.006\n",
            "Hidden loss = 52.78050994873047, Reconstruction Loss = 50.34336853027344\n",
            "Epoch - 31, Loss - 589.574\n",
            "Hidden loss = 54.30757522583008, Reconstruction Loss = 48.98931121826172\n",
            "Epoch - 32, Loss - 534.248\n",
            "Hidden loss = 53.39212417602539, Reconstruction Loss = 51.77227783203125\n",
            "Epoch - 33, Loss - 564.372\n",
            "Hidden loss = 52.86745834350586, Reconstruction Loss = 50.24627685546875\n",
            "Epoch - 34, Loss - 586.14\n",
            "Hidden loss = 52.007511138916016, Reconstruction Loss = 49.90705871582031\n",
            "Epoch - 35, Loss - 544.79\n",
            "Hidden loss = 54.31858825683594, Reconstruction Loss = 49.58055114746094\n",
            "Epoch - 36, Loss - 611.514\n",
            "Hidden loss = 49.85321044921875, Reconstruction Loss = 48.62776565551758\n",
            "Epoch - 37, Loss - 544.032\n",
            "Hidden loss = 52.915138244628906, Reconstruction Loss = 50.65296936035156\n",
            "Epoch - 38, Loss - 570.214\n",
            "Hidden loss = 49.613555908203125, Reconstruction Loss = 51.43461608886719\n",
            "Epoch - 39, Loss - 574.593\n",
            "Hidden loss = 52.36145782470703, Reconstruction Loss = 51.23365783691406\n",
            "Epoch - 40, Loss - 580.011\n",
            "Hidden loss = 51.10948181152344, Reconstruction Loss = 51.09479904174805\n",
            "Epoch - 41, Loss - 596.525\n",
            "Hidden loss = 50.24275207519531, Reconstruction Loss = 48.25160217285156\n",
            "Epoch - 42, Loss - 511.405\n",
            "Hidden loss = 48.91868209838867, Reconstruction Loss = 51.8858528137207\n",
            "Epoch - 43, Loss - 591.699\n",
            "Hidden loss = 50.86640930175781, Reconstruction Loss = 51.469482421875\n",
            "Epoch - 44, Loss - 643.886\n",
            "Hidden loss = 50.4696159362793, Reconstruction Loss = 51.70643615722656\n",
            "Epoch - 45, Loss - 553.961\n",
            "Hidden loss = 51.22964859008789, Reconstruction Loss = 50.485877990722656\n",
            "Epoch - 46, Loss - 545.603\n",
            "Hidden loss = 49.604591369628906, Reconstruction Loss = 50.097869873046875\n",
            "Epoch - 47, Loss - 590.899\n",
            "Hidden loss = 52.95266342163086, Reconstruction Loss = 49.37533187866211\n",
            "Epoch - 48, Loss - 573.069\n",
            "Hidden loss = 48.746185302734375, Reconstruction Loss = 53.374324798583984\n",
            "Epoch - 49, Loss - 547.881\n",
            "Hidden loss = 49.17927932739258, Reconstruction Loss = 51.95625305175781\n",
            "Epoch - 50, Loss - 543.789\n"
          ],
          "name": "stdout"
        },
        {
          "output_type": "display_data",
          "data": {
            "image/png": "[encoded data removed]",
            "text/plain": [
              "<Figure size 432x288 with 1 Axes>"
            ]
          },
          "metadata": {
            "tags": []
          }
        }
      ]
    },
    {
      "cell_type": "code",
      "metadata": {
        "id": "WbbtS6Wcw8uv",
        "colab_type": "code",
        "colab": {}
      },
      "source": [
        "y_pred = model.predict(X_test)"
      ],
      "execution_count": 0,
      "outputs": []
    },
    {
      "cell_type": "markdown",
      "metadata": {
        "id": "E__fDRmZOY3F",
        "colab_type": "text"
      },
      "source": [
        "# Results for DCCA loss at hidden layer\n",
        "**Scores for Mediamill dataset**"
      ]
    },
    {
      "cell_type": "code",
      "metadata": {
        "id": "7xyzXLD8xCL0",
        "colab_type": "code",
        "colab": {
          "base_uri": "https://localhost:8080/",
          "height": 69
        },
        "outputId": "c723cc76-d2dd-42c6-fc88-53cd8df36302"
      },
      "source": [
        "print(\"P@1: \",p_k(y_pred, Y_test, 1))\n",
        "print(\"P@3: \",p_k(y_pred, Y_test, 3))\n",
        "print(\"P@5: \",p_k(y_pred, Y_test, 5))"
      ],
      "execution_count": 16,
      "outputs": [
        {
          "output_type": "stream",
          "text": [
            "P@1:  0.7543750967941769\n",
            "P@3:  0.5022198131227416\n",
            "P@5:  0.31277683134584155\n"
          ],
          "name": "stdout"
        }
      ]
    },
    {
      "cell_type": "code",
      "metadata": {
        "id": "zzrIuTT_xF3k",
        "colab_type": "code",
        "colab": {
          "base_uri": "https://localhost:8080/",
          "height": 69
        },
        "outputId": "f073171c-6cf4-4640-f82b-955fb6814586"
      },
      "source": [
        "print(\"n@1: \",n_k(y_pred, Y_test, 1))\n",
        "print(\"n@3: \",n_k(y_pred, Y_test, 3))\n",
        "print(\"n@5: \",n_k(y_pred, Y_test, 5))"
      ],
      "execution_count": 17,
      "outputs": [
        {
          "output_type": "stream",
          "text": [
            "n@1:  0.7543750967941769\n",
            "n@3:  0.5895752551789218\n",
            "n@5:  0.49786608519459274\n"
          ],
          "name": "stdout"
        }
      ]
    },
    {
      "cell_type": "markdown",
      "metadata": {
        "id": "GGQSwe2mOwz2",
        "colab_type": "text"
      },
      "source": [
        "# Grid Search for DCCA parameters"
      ]
    },
    {
      "cell_type": "code",
      "metadata": {
        "id": "cS2e_FKaxvtG",
        "colab_type": "code",
        "colab": {}
      },
      "source": [
        "for r in [ .5*1e-7, 1e-8, .5*1e-8, 1e-9]: \n",
        "    for f in [True, False]: \n",
        "        try: \n",
        "            model = XML(input_size=X_train.shape[1], embedding_size=100, attention_layer_size=50, \n",
        "                        encoder_layer_size=120, hidden_layer_size=100,output_size=Y_train.shape[1],\n",
        "                        margin=0.8, r1 = r, use_all_singular_values = f)\n",
        "            model.train(X_train, Y_train, lr_ = 0.001, epochs=20, batch_size=1024) \n",
        "            print(\"##############################################################################\") \n",
        "            print(\"Successfull Iteration for r = \", r, \" and f = \", f)\n",
        "        except : \n",
        "            print(\"##############################################################################\") \n",
        "            print(\"Error Iteration Aman for r = \", r, \" and f = \", f)"
      ],
      "execution_count": 0,
      "outputs": []
    },
    {
      "cell_type": "markdown",
      "metadata": {
        "id": "iVIk9BARKeeI",
        "colab_type": "text"
      },
      "source": [
        "# Results for MSE loss at hidden layer\n",
        "**Scores for Mediamill dataset**"
      ]
    },
    {
      "cell_type": "code",
      "metadata": {
        "id": "kGOHwHbODfVp",
        "colab_type": "code",
        "outputId": "b174d537-149f-4101-823b-f7a220bfe461",
        "colab": {
          "base_uri": "https://localhost:8080/",
          "height": 69
        }
      },
      "source": [
        "print(\"P@1: \",p_k(y_pred, Y_test, 1))\n",
        "print(\"P@3: \",p_k(y_pred, Y_test, 3))\n",
        "print(\"P@5: \",p_k(y_pred, Y_test, 5))"
      ],
      "execution_count": 0,
      "outputs": [
        {
          "output_type": "stream",
          "text": [
            "P@1:  0.6283103608486913\n",
            "P@3:  0.5773837179288812\n",
            "P@5:  0.4468483816013554\n"
          ],
          "name": "stdout"
        }
      ]
    },
    {
      "cell_type": "code",
      "metadata": {
        "id": "FgPKMcZNAm0X",
        "colab_type": "code",
        "outputId": "5b100358-426c-4985-b03b-a4b748de664e",
        "colab": {
          "base_uri": "https://localhost:8080/",
          "height": 69
        }
      },
      "source": [
        "print(\"n@1: \",n_k(y_pred, Y_test, 1))\n",
        "print(\"n@3: \",n_k(y_pred, Y_test, 3))\n",
        "print(\"n@5: \",n_k(y_pred, Y_test, 5))"
      ],
      "execution_count": 0,
      "outputs": [
        {
          "output_type": "stream",
          "text": [
            "n@1:  0.6283103608486913\n",
            "n@3:  0.6284964713729472\n",
            "n@5:  0.6027628038215489\n"
          ],
          "name": "stdout"
        }
      ]
    }
  ]
}